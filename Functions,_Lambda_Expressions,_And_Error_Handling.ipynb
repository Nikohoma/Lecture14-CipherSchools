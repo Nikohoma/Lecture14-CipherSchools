{
  "nbformat": 4,
  "nbformat_minor": 0,
  "metadata": {
    "colab": {
      "provenance": []
    },
    "kernelspec": {
      "name": "python3",
      "display_name": "Python 3"
    },
    "language_info": {
      "name": "python"
    }
  },
  "cells": [
    {
      "cell_type": "markdown",
      "source": [
        "Functions"
      ],
      "metadata": {
        "id": "BCXmVo4UYvIE"
      }
    },
    {
      "cell_type": "code",
      "source": [
        "def add(a,b):\n",
        "  return a + b\n",
        "\n",
        "x=int(input(\"Enter the first number: \"))\n",
        "y=int(input(\"Enter the second number: \"))\n",
        "print(add(x,y))\n",
        "print(add(3,4))"
      ],
      "metadata": {
        "colab": {
          "base_uri": "https://localhost:8080/"
        },
        "id": "wecNijhzbNc8",
        "outputId": "c678538a-134b-4ed3-c074-261b1eb7aac6"
      },
      "execution_count": 16,
      "outputs": [
        {
          "output_type": "stream",
          "name": "stdout",
          "text": [
            "Enter the first number: 2\n",
            "Enter the second number: 3\n",
            "5\n",
            "7\n"
          ]
        }
      ]
    },
    {
      "cell_type": "code",
      "source": [
        "#Function with default arguments\n",
        "\n",
        "def greet(name,message=\"Hello\"):\n",
        "  return f\"{message}, {name}\"\n",
        "\n",
        "n=input(\"Enter your name: \")\n",
        "print(greet(n))\n",
        "print(greet(\"Alice\",\"Hi\"))"
      ],
      "metadata": {
        "colab": {
          "base_uri": "https://localhost:8080/"
        },
        "id": "Q6TNV2_RcBTH",
        "outputId": "27193335-1d50-4809-8ddb-a78529df7ac8"
      },
      "execution_count": 18,
      "outputs": [
        {
          "output_type": "stream",
          "name": "stdout",
          "text": [
            "ENter your name: Nik\n",
            "Hello, Nik\n",
            "Hi, Alice\n"
          ]
        }
      ]
    },
    {
      "cell_type": "code",
      "source": [
        "def fun():\n",
        "  print(\"Hello\")\n",
        "\n",
        "fun()"
      ],
      "metadata": {
        "colab": {
          "base_uri": "https://localhost:8080/"
        },
        "id": "w6V9Ql7scw9w",
        "outputId": "dc11c2e4-bfdc-40d9-b4fd-09c5816c6c94"
      },
      "execution_count": 19,
      "outputs": [
        {
          "output_type": "stream",
          "name": "stdout",
          "text": [
            "Hello\n"
          ]
        }
      ]
    },
    {
      "cell_type": "code",
      "source": [
        "def fun(name):\n",
        "  print(\"Hello\",name)\n",
        "\n",
        "fun(\"Nik\")"
      ],
      "metadata": {
        "colab": {
          "base_uri": "https://localhost:8080/"
        },
        "id": "3i_-VzISdAV1",
        "outputId": "add3c9fe-35da-41d3-d8c0-20f4cec1a8d8"
      },
      "execution_count": 20,
      "outputs": [
        {
          "output_type": "stream",
          "name": "stdout",
          "text": [
            "Hello Nik\n"
          ]
        }
      ]
    },
    {
      "cell_type": "code",
      "source": [
        "def square(a):\n",
        "  return a*a\n",
        "\n",
        "\n",
        "n=int(input(\"Enter a number: \"))  #input is by default string type\n",
        "print(f\"Square of {n} is {square(n)}\")\n",
        "\n"
      ],
      "metadata": {
        "colab": {
          "base_uri": "https://localhost:8080/"
        },
        "id": "hPimBFdodGoy",
        "outputId": "ba0007c3-7794-442e-ab1e-0ddc1645fcc4"
      },
      "execution_count": 29,
      "outputs": [
        {
          "output_type": "stream",
          "name": "stdout",
          "text": [
            "Enter a number: 2\n",
            "Square of 2 is 4\n"
          ]
        }
      ]
    },
    {
      "cell_type": "code",
      "source": [
        "#Function with variable length arguments\n",
        "\n",
        "def sum_all(*args):\n",
        "  return sum(args)   #predefined sum()\n",
        "\n",
        "print(sum_all(1,2,3,4,5))"
      ],
      "metadata": {
        "colab": {
          "base_uri": "https://localhost:8080/"
        },
        "id": "t9FES-SLdxsT",
        "outputId": "c9f594bb-af43-4869-e514-367b382f1945"
      },
      "execution_count": 33,
      "outputs": [
        {
          "output_type": "stream",
          "name": "stdout",
          "text": [
            "15\n"
          ]
        }
      ]
    },
    {
      "cell_type": "code",
      "source": [
        "#Function with keyword Arguments(dictionary arguments)(could be n no. of args)\n",
        "def display(**kwargs):\n",
        "  for key,value in kwargs.items():\n",
        "    print(f\"{key}:{value}\")\n",
        "\n",
        "display(name=\"Alice\",age=25,city=\"New York\")\n",
        "\n",
        "\n"
      ],
      "metadata": {
        "colab": {
          "base_uri": "https://localhost:8080/"
        },
        "id": "CU_m6D59fUhc",
        "outputId": "ec16fb13-a82d-4c0e-98e2-30a7b32c070f"
      },
      "execution_count": 35,
      "outputs": [
        {
          "output_type": "stream",
          "name": "stdout",
          "text": [
            "name:Alice\n",
            "age:25\n",
            "city:New York\n"
          ]
        }
      ]
    },
    {
      "cell_type": "code",
      "source": [
        "#Higher Order function ( func as an arhument in the function)\n",
        "def apply(fun,x,y):\n",
        "  return fun(x,y)\n",
        "\n",
        "def multiply(x,y):\n",
        "  return x*y\n",
        "\n",
        "print(apply(multiply,5,6))\n",
        "print(multiply(5,6))"
      ],
      "metadata": {
        "colab": {
          "base_uri": "https://localhost:8080/"
        },
        "id": "PngxahF9gGOc",
        "outputId": "ce7a9bec-9332-41a2-ae00-df5a17263883"
      },
      "execution_count": 38,
      "outputs": [
        {
          "output_type": "stream",
          "name": "stdout",
          "text": [
            "30\n",
            "30\n"
          ]
        }
      ]
    },
    {
      "cell_type": "markdown",
      "source": [
        "Lambda Expressions/Anonymous functions: unnamed,defined using lambda, often used for short,throwaway function.\n",
        "\n",
        "Commonly used in sorting algorithms"
      ],
      "metadata": {
        "id": "JSdbYoBNhPzt"
      }
    },
    {
      "cell_type": "code",
      "source": [
        "square = lambda x: x*x\n",
        "print(square(5))"
      ],
      "metadata": {
        "colab": {
          "base_uri": "https://localhost:8080/"
        },
        "id": "x3yKOP98hi7N",
        "outputId": "e7d1d309-3de9-4a29-b6e9-80415a3d7afa"
      },
      "execution_count": 39,
      "outputs": [
        {
          "output_type": "stream",
          "name": "stdout",
          "text": [
            "25\n"
          ]
        }
      ]
    },
    {
      "cell_type": "code",
      "source": [
        "#lambda function in map ( map function maps the new value to the position of their previous value)\n",
        "num=[1,2,3,4,5]\n",
        "squares = list(map(lambda x: x*x, num))\n",
        "# squares = list(lambda x: x*x)\n",
        "print(squares)"
      ],
      "metadata": {
        "colab": {
          "base_uri": "https://localhost:8080/"
        },
        "id": "Ht7KP0ughteu",
        "outputId": "19ecc8fb-910d-4d97-86fb-5cb342a118ec"
      },
      "execution_count": 43,
      "outputs": [
        {
          "output_type": "stream",
          "name": "stdout",
          "text": [
            "[1, 4, 9, 16, 25]\n"
          ]
        }
      ]
    },
    {
      "cell_type": "code",
      "source": [
        "#Lambda function in 'filter' ( filter output the true values only)\n",
        "\n",
        "num=[1,2,3,4,5]\n",
        "even=list(filter(lambda x : x%2==0 , num))\n",
        "print(even)\n"
      ],
      "metadata": {
        "colab": {
          "base_uri": "https://localhost:8080/"
        },
        "id": "4_0t2jiaiXDG",
        "outputId": "d4a214c0-fd07-4bb0-9ebd-2586c3119b16"
      },
      "execution_count": 44,
      "outputs": [
        {
          "output_type": "stream",
          "name": "stdout",
          "text": [
            "[2, 4]\n"
          ]
        }
      ]
    },
    {
      "cell_type": "code",
      "source": [
        "#Lambda with sort function (sorts the output depending on the argument of choice)\n",
        "\n",
        "students=[(\"Alice\",20),(\"Bob\",18),(\"Charlie\",22)]\n",
        "students.sort(key=lambda x: x[1])\n",
        "#other way\n",
        "y=sorted(students,key=lambda x:x[1])\n",
        "\n",
        "print(students)\n",
        "print(y)"
      ],
      "metadata": {
        "colab": {
          "base_uri": "https://localhost:8080/"
        },
        "id": "enEZjTUQjKuv",
        "outputId": "9f89f31b-b70b-42b9-cbdb-89d7a343131d"
      },
      "execution_count": 47,
      "outputs": [
        {
          "output_type": "stream",
          "name": "stdout",
          "text": [
            "[('Bob', 18), ('Alice', 20), ('Charlie', 22)]\n",
            "[('Bob', 18), ('Alice', 20), ('Charlie', 22)]\n"
          ]
        }
      ]
    },
    {
      "cell_type": "markdown",
      "source": [
        "Error Handling : try,except,else and finally\n",
        "          "
      ],
      "metadata": {
        "id": "x9DA_HWwkgFi"
      }
    },
    {
      "cell_type": "code",
      "source": [
        "try :\n",
        "  result =10/0\n",
        "except ZeroDivisionError:\n",
        "  print(\"Kya kr rha hai andhe!\")"
      ],
      "metadata": {
        "colab": {
          "base_uri": "https://localhost:8080/"
        },
        "id": "znEMMADdkiDd",
        "outputId": "dff624db-06b0-44c9-9629-9e223d8c112e"
      },
      "execution_count": 50,
      "outputs": [
        {
          "output_type": "stream",
          "name": "stdout",
          "text": [
            "Kya kr rha hai andhe!\n"
          ]
        }
      ]
    },
    {
      "cell_type": "code",
      "source": [
        "try :\n",
        "  result =10/2\n",
        "except ZeroDivisionError:\n",
        "  print(\"Kya kr rha hai andhe!\")\n",
        "else:\n",
        "  print(\"Division successfull\", result)"
      ],
      "metadata": {
        "colab": {
          "base_uri": "https://localhost:8080/"
        },
        "id": "Az6UsKLLmni6",
        "outputId": "36428464-953d-4321-a5e8-ea2340c1e34c"
      },
      "execution_count": 54,
      "outputs": [
        {
          "output_type": "stream",
          "name": "stdout",
          "text": [
            "Division successfull 5.0\n"
          ]
        }
      ]
    },
    {
      "cell_type": "code",
      "source": [
        "try :\n",
        "  result =10/2\n",
        "except ZeroDivisionError:\n",
        "  print(\"Kya kr rha hai andhe!\")\n",
        "else:\n",
        "  print(\"Division successfull\", result)\n",
        "finally:  #should be defined at last\n",
        "  print(\"This is always executed\")"
      ],
      "metadata": {
        "colab": {
          "base_uri": "https://localhost:8080/"
        },
        "id": "bgwUjCEfnqeT",
        "outputId": "e3dcd41d-1588-416e-e289-82f81f140bfb"
      },
      "execution_count": 55,
      "outputs": [
        {
          "output_type": "stream",
          "name": "stdout",
          "text": [
            "Division successfull 5.0\n",
            "This is always executed\n"
          ]
        }
      ]
    },
    {
      "cell_type": "code",
      "source": [
        "try:\n",
        "  num=int(input(\"Enter the number: \"))\n",
        "  result=10/num\n",
        "except ValueError:\n",
        "  print(\"Number daal andhe\")\n",
        "except ZeroDivisionError:\n",
        "  print(\"Kya kr rha hai andhe!\")\n",
        "else:\n",
        "  print(\"Divison by 10 : \",result)"
      ],
      "metadata": {
        "colab": {
          "base_uri": "https://localhost:8080/"
        },
        "id": "a_FpUhUGoJgf",
        "outputId": "1307246c-5fd8-44cb-aade-b8ea7092ee09"
      },
      "execution_count": 59,
      "outputs": [
        {
          "output_type": "stream",
          "name": "stdout",
          "text": [
            "Enter the number: 23\n",
            "Divison:  0.43478260869565216\n"
          ]
        }
      ]
    },
    {
      "cell_type": "code",
      "source": [
        "#Raising Exceptions\n",
        "\n",
        "def check(num):\n",
        "  if num<=0:\n",
        "    raise ValueError(\"Positive number daal\")\n",
        "  else:\n",
        "    print(\"Number = \",num)\n",
        "\n",
        "try:\n",
        "  x=int(input(\"Enter the number: \"))\n",
        "  check(x)\n",
        "except ValueError as e:\n",
        "  print(e)\n"
      ],
      "metadata": {
        "colab": {
          "base_uri": "https://localhost:8080/"
        },
        "id": "EvLxTuBtosWw",
        "outputId": "fd983c4f-f90a-4f81-c694-d9a198a4a2d2"
      },
      "execution_count": 62,
      "outputs": [
        {
          "output_type": "stream",
          "name": "stdout",
          "text": [
            "Enter the number: -12\n",
            "<class 'ValueError'>\n"
          ]
        }
      ]
    }
  ]
}